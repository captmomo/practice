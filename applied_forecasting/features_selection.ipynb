{
 "cells": [
  {
   "cell_type": "code",
   "execution_count": 1,
   "metadata": {},
   "outputs": [
    {
     "name": "stdout",
     "output_type": "stream",
     "text": [
      "                     lights     T1       RH_1    T2       RH_2     T3  \\\n",
      "date                                                                    \n",
      "2016-01-11 17:00:00      30  19.89  47.596667  19.2  44.790000  19.79   \n",
      "2016-01-11 17:10:00      30  19.89  46.693333  19.2  44.722500  19.79   \n",
      "2016-01-11 17:20:00      30  19.89  46.300000  19.2  44.626667  19.79   \n",
      "2016-01-11 17:40:00      40  19.89  46.333333  19.2  44.530000  19.79   \n",
      "2016-01-11 17:50:00      40  19.89  46.026667  19.2  44.500000  19.79   \n",
      "\n",
      "                          RH_3         T4       RH_4         T5    ...      \\\n",
      "date                                                               ...       \n",
      "2016-01-11 17:00:00  44.730000  19.000000  45.566667  17.166667    ...       \n",
      "2016-01-11 17:10:00  44.790000  19.000000  45.992500  17.166667    ...       \n",
      "2016-01-11 17:20:00  44.933333  18.926667  45.890000  17.166667    ...       \n",
      "2016-01-11 17:40:00  45.000000  18.890000  45.530000  17.200000    ...       \n",
      "2016-01-11 17:50:00  44.933333  18.890000  45.730000  17.133333    ...       \n",
      "\n",
      "                       T8       RH_8         T9   RH_9  T_out  Press_mm_hg  \\\n",
      "date                                                                         \n",
      "2016-01-11 17:00:00  18.2  48.900000  17.033333  45.53   6.60        733.5   \n",
      "2016-01-11 17:10:00  18.2  48.863333  17.066667  45.56   6.48        733.6   \n",
      "2016-01-11 17:20:00  18.2  48.730000  17.000000  45.50   6.37        733.7   \n",
      "2016-01-11 17:40:00  18.1  48.590000  17.000000  45.40   6.13        733.9   \n",
      "2016-01-11 17:50:00  18.1  48.590000  17.000000  45.29   6.02        734.0   \n",
      "\n",
      "                     RH_out  Windspeed  Visibility  Tdewpoint  \n",
      "date                                                           \n",
      "2016-01-11 17:00:00    92.0   7.000000   63.000000        5.3  \n",
      "2016-01-11 17:10:00    92.0   6.666667   59.166667        5.2  \n",
      "2016-01-11 17:20:00    92.0   6.333333   55.333333        5.1  \n",
      "2016-01-11 17:40:00    92.0   5.666667   47.666667        4.9  \n",
      "2016-01-11 17:50:00    92.0   5.333333   43.833333        4.8  \n",
      "\n",
      "[5 rows x 25 columns]\n",
      "['lights', 'T1', 'RH_1', 'T2', 'RH_2', 'T3', 'RH_3', 'T4', 'RH_4', 'T5', 'RH_5', 'T6', 'RH_6', 'T7', 'RH_7', 'T8', 'RH_8', 'T9', 'RH_9', 'T_out', 'Press_mm_hg', 'RH_out', 'Windspeed', 'Visibility', 'Tdewpoint']\n"
     ]
    }
   ],
   "source": [
    "## references:\n",
    "# https://www.ritchieng.com/pandas-scikit-learn/\n",
    "# https://www.kaggle.com/timolee/a-home-for-pandas-and-sklearn-beginner-how-tos\n",
    "import pandas as pd\n",
    "\n",
    "df = pd.read_csv('P1training.csv', parse_dates=True, index_col=0)\n",
    "# dependent variables aka response\n",
    "y = df['Appliances']\n",
    "# predictors\n",
    "feature_cols = [col for col in df.columns if 'Appliances' not in col]\n",
    "x = df[feature_cols]\n",
    "print(x.head())\n",
    "print(feature_cols)"
   ]
  },
  {
   "cell_type": "code",
   "execution_count": 23,
   "metadata": {},
   "outputs": [
    {
     "name": "stdout",
     "output_type": "stream",
     "text": [
      "{'lights': 125.66487435181583, 'T1': 12.614376551581076, 'RH_1': 25.70312448853656, 'T2': 51.667068316958236, 'RH_2': 13.001073509841417, 'T3': 29.278489694406954, 'RH_3': 5.11527917040632, 'T4': 7.972750022286362, 'RH_4': 1.3242202223458253, 'T5': 2.255571807573618, 'RH_5': 0.32046600008807663, 'T6': 49.828814521581656, 'RH_6': 25.518016386150553, 'T7': 4.0863732492170275, 'RH_7': 11.15981444564585, 'T8': 7.535670466411153, 'RH_8': 29.4447081644904, 'T9': 1.347724787928244, 'RH_9': 9.009151725470517, 'T_out': 36.48758157075844, 'Press_mm_hg': 4.0546376783952125, 'RH_out': 79.46327750890532, 'Windspeed': 24.558129000587765, 'Visibility': 0.25161691650180046, 'Tdewpoint': 1.7669912100853202}\n"
     ]
    },
    {
     "data": {
      "image/png": "[encoded data removed]",
      "text/plain": [
       "<Figure size 432x288 with 1 Axes>"
      ]
     },
     "metadata": {
      "needs_background": "light"
     },
     "output_type": "display_data"
    }
   ],
   "source": [
    "# feature selection use Univariate linear regression tests.\n",
    "import numpy as np\n",
    "import matplotlib.pyplot as plt\n",
    "from sklearn.feature_selection import SelectKBest,f_regression\n",
    "from sklearn import linear_model\n",
    "\n",
    "#selecting features\n",
    "selector = SelectKBest(score_func=f_regression, k=5)\n",
    "fit = selector.fit(df[feature_cols], df['Appliances'])\n",
    "\n",
    "# Get the raw p-values for each feature, and transform from p-values into scores\n",
    "scores = -np.log10(selector.pvalues_)\n",
    "pvalue_dict  = dict(zip(feature_cols, scores))\n",
    "print(pvalue_dict)\n",
    "\n",
    "# Plot the scores.\n",
    "plt.bar(range(len(feature_cols)), scores)\n",
    "plt.xticks(range(len(feature_cols)), feature_cols, rotation='vertical')\n",
    "plt.show()\n",
    "\n"
   ]
  },
  {
   "cell_type": "code",
   "execution_count": 29,
   "metadata": {},
   "outputs": [
    {
     "name": "stdout",
     "output_type": "stream",
     "text": [
      "['lights', 'T2', 'T6', 'T_out', 'RH_out']\n"
     ]
    }
   ],
   "source": [
    "kbest_f_regress =list(df[feature_cols].columns[fit.get_support()])\n",
    "print(kbest_f_regress)"
   ]
  },
  {
   "cell_type": "code",
   "execution_count": 37,
   "metadata": {},
   "outputs": [
    {
     "data": {
      "text/plain": [
       "RFECV(cv=None,\n",
       "   estimator=LinearRegression(copy_X=True, fit_intercept=True, n_jobs=1, normalize=False),\n",
       "   n_jobs=1, scoring='neg_mean_squared_error', step=1, verbose=0)"
      ]
     },
     "execution_count": 37,
     "metadata": {},
     "output_type": "execute_result"
    }
   ],
   "source": [
    "from sklearn.feature_selection import RFECV, RFE\n",
    "from sklearn.linear_model import LinearRegression\n",
    "#feature selection using recursive feature elimination with cross validation\n",
    "#http://scikit-learn.org/stable/modules/generated/sklearn.feature_selection.RFECV.html\n",
    "#instantiate a model\n",
    "linear_reg = LinearRegression()\n",
    "# Create recursive feature eliminator that scores features by mean squared errors\n",
    "rfecv = RFECV(estimator=linear_reg, step=1, scoring='neg_mean_squared_error')\n",
    "\n",
    "# Fit recursive feature eliminator \n",
    "rfecv.fit(df[feature_cols], df['Appliances'])"
   ]
  },
  {
   "cell_type": "code",
   "execution_count": 45,
   "metadata": {},
   "outputs": [
    {
     "name": "stdout",
     "output_type": "stream",
     "text": [
      "Number of best features: 11\n",
      "[('lights', 2), ('T1', 3), ('RH_1', 1), ('T2', 1), ('RH_2', 1), ('T3', 1), ('RH_3', 1), ('T4', 1), ('RH_4', 12), ('T5', 8), ('RH_5', 14), ('T6', 1), ('RH_6', 11), ('T7', 6), ('RH_7', 5), ('T8', 1), ('RH_8', 1), ('T9', 1), ('RH_9', 9), ('T_out', 1), ('Press_mm_hg', 13), ('RH_out', 10), ('Windspeed', 4), ('Visibility', 15), ('Tdewpoint', 7)]\n"
     ]
    }
   ],
   "source": [
    "# Number of best features\n",
    "print('Number of best features:', rfecv.n_features_)\n",
    "rfecv_ranking = list(zip(feature_cols, rfecv.ranking_))\n",
    "print(rfecv_ranking)"
   ]
  },
  {
   "cell_type": "code",
   "execution_count": 84,
   "metadata": {},
   "outputs": [
    {
     "name": "stdout",
     "output_type": "stream",
     "text": [
      "Features selected: RH_1 , T2 , RH_2 , T3 , RH_3 , T4 , T6 , T8 , RH_8 , T9 , T_out\n"
     ]
    },
    {
     "data": {
      "image/png": "[encoded data removed]",
      "text/plain": [
       "<Figure size 432x288 with 1 Axes>"
      ]
     },
     "metadata": {
      "needs_background": "light"
     },
     "output_type": "display_data"
    }
   ],
   "source": [
    "# List of features\n",
    "rfecv_feats = list(df[feature_cols].columns[rfecv.get_support()])\n",
    "print('Features selected:',' , '.join(rfecv_feats))\n",
    "# Plot number of features VS. cross-validation scores\n",
    "plt.figure()\n",
    "plt.xlabel(\"Number of features selected\")\n",
    "plt.ylabel(\"Cross validation score (neg MSE)\")\n",
    "plt.plot(range(1, len(rfecv.grid_scores_) + 1), rfecv.grid_scores_)\n",
    "plt.show()"
   ]
  },
  {
   "cell_type": "code",
   "execution_count": 43,
   "metadata": {},
   "outputs": [
    {
     "name": "stdout",
     "output_type": "stream",
     "text": [
      "Features selected: RH_1 , T2 , RH_2 , T3 , T9\n",
      "Num Features: 5\n",
      "Feature Ranking:{'lights': 8, 'T1': 9, 'RH_1': 1, 'T2': 1, 'RH_2': 1, 'T3': 1, 'RH_3': 4, 'T4': 7, 'RH_4': 18, 'T5': 14, 'RH_5': 20, 'T6': 5, 'RH_6': 17, 'T7': 12, 'RH_7': 11, 'T8': 2, 'RH_8': 3, 'T9': 1, 'RH_9': 15, 'T_out': 6, 'Press_mm_hg': 19, 'RH_out': 16, 'Windspeed': 10, 'Visibility': 21, 'Tdewpoint': 13}\n"
     ]
    }
   ],
   "source": [
    "# Recursive feature selection without cross validation\n",
    "\n",
    "rfe = RFE(linear_reg, 5, step=1)\n",
    "rfe.fit(df[feature_cols], df['Appliances'])\n",
    "# List of features\n",
    "rfe_feats = list(df[feature_cols].columns[rfe.get_support()])\n",
    "ranking_dict = dict(zip(feature_cols, rfe.ranking_))\n",
    "print('Features selected:',' , '.join(rfe_feats))\n",
    "print(\"Num Features: {}\".format(rfe.n_features_))\n",
    "print(\"Feature Ranking:{}\".format(ranking_dict))"
   ]
  },
  {
   "cell_type": "code",
   "execution_count": 68,
   "metadata": {},
   "outputs": [],
   "source": [
    "import statsmodels.formula.api as smf\n",
    "import statsmodels.api as sm\n",
    "import heapq\n",
    "from sklearn.model_selection import KFold\n",
    "from operator import itemgetter\n",
    "from sklearn.metrics import (explained_variance_score, mean_absolute_error,\n",
    "                             mean_squared_error, r2_score)\n",
    "\n",
    "def forward_selected(data, response, n):\n",
    "    \"\"\"Linear model designed by forward selection.\n",
    "\n",
    "    Parameters:\n",
    "    -----------\n",
    "    data : pandas DataFrame with all possible predictors and response\n",
    "\n",
    "    response: string, name of response column in data\n",
    "    \n",
    "    n: number of features to select\n",
    "\n",
    "    Returns:\n",
    "    --------\n",
    "    model: an \"optimal\" fitted statsmodels linear model\n",
    "           with an intercept\n",
    "           selected by forward selection\n",
    "           evaluated by BIC\n",
    "    \n",
    "    selected_features: list of features for model with best BIC\n",
    "    \n",
    "    top_n_features: top n features based on pvalues\n",
    "    \"\"\"\n",
    "    pvalue_threshold = 0.05\n",
    "    cols = [col for col in df.columns if response not in col]\n",
    "    cols = [col for col in feature_cols if 'date' not in col]\n",
    "    counter = cols.copy()\n",
    "    # list to store selected predictors\n",
    "    selected = []\n",
    "    # variables to tore score:\n",
    "    best = 0.0\n",
    "    current = 0.0\n",
    "\n",
    "    # split into test train\n",
    "    kf = KFold(n_splits=10, shuffle=True, random_state=2)\n",
    "    result = next(kf.split(df), None)\n",
    "    train = df.iloc[result[0]]\n",
    "    test = df.iloc[result[1]]\n",
    "    # constructure formua\n",
    "    for feat in cols:\n",
    "        selected.append(feat)\n",
    "        formula = \"{0} ~ {1}\".format(response, ' + '.join(selected))\n",
    "        model = smf.ols(formula, data=train)\n",
    "        results = model.fit()\n",
    "        #predictor columns\n",
    "        test_exog = test[selected]\n",
    "        #add a column of 1\n",
    "        test_exog = sm.add_constant(test_exog)\n",
    "        #print(test_exog)\n",
    "        y_pred = model.predict(results.params, test_exog)\n",
    "        print('BIC:', results.bic)\n",
    "        current = results.bic\n",
    "        if best == 0.0:\n",
    "            best = current\n",
    "            print('best', best)\n",
    "        if current > best:\n",
    "            print('current more than best')\n",
    "            print('current', current)\n",
    "            print('best', best)\n",
    "            selected.remove(feat)\n",
    "        else:\n",
    "            best = current\n",
    "            pvalues = results.pvalues\n",
    "            #print('pvalues {}\\n'.format(pvalues))\n",
    "            p_dict = pvalues.to_dict()\n",
    "            for key, value in p_dict.items():\n",
    "                if value >= pvalue_threshold:\n",
    "                    print('keys to remove',key)\n",
    "                    if key == 'Intercept':\n",
    "                        continue\n",
    "                    else:\n",
    "                        print('removing...')\n",
    "                        selected.remove(key)\n",
    "\n",
    "    formula = \"{} ~  {}\".format(response,\n",
    "                                  ' + '.join(selected))\n",
    "    #print(formula)\n",
    "    final_model = smf.ols(formula, data=train)\n",
    "    final_results = final_model.fit()\n",
    "    print(final_results.summary())\n",
    "    print('\\nParams:\\n', final_results.params)\n",
    "    print('\\nPvalues:\\n', final_results.pvalues)\n",
    "    scores = -np.log10(final_results.pvalues)\n",
    "    final_p = (final_results.pvalues).to_dict()\n",
    "    list_of_params = {}\n",
    "    for k, v in final_p.items():\n",
    "        if k is not 'Intercept':\n",
    "            list_of_params[k] = -np.log10(v)\n",
    "    topitems = heapq.nlargest(n, list_of_params.items(), key=itemgetter(1))\n",
    "    topitemsasdict = dict(topitems)\n",
    "    print(topitemsasdict)\n",
    "    predictions = final_results.predict(test[selected])\n",
    "    print('RMSE:', np.sqrt(\n",
    "            mean_squared_error(predictions, test[response])))\n",
    "    selected_features = list(list_of_params.keys())\n",
    "    top_n_features = list(topitemsasdict.keys())\n",
    "    return final_model, selected_features, top_n_features"
   ]
  },
  {
   "cell_type": "code",
   "execution_count": 56,
   "metadata": {},
   "outputs": [
    {
     "name": "stdout",
     "output_type": "stream",
     "text": [
      "BIC: 160626.57609376448\n",
      "best 160626.57609376448\n",
      "BIC: 160579.9057901724\n",
      "keys to remove Intercept\n",
      "BIC: 160551.53524873464\n",
      "BIC: 160343.01807185684\n",
      "BIC: 159833.47651377923\n",
      "BIC: 159401.30318786445\n",
      "keys to remove T1\n",
      "removing...\n",
      "BIC: 159401.67542917957\n",
      "current more than best\n",
      "current 159401.67542917957\n",
      "best 159401.30318786445\n",
      "BIC: 159324.34300981316\n",
      "BIC: 159251.30170445316\n",
      "BIC: 159242.33639923576\n",
      "BIC: 159248.01362672588\n",
      "current more than best\n",
      "current 159248.01362672588\n",
      "best 159242.33639923576\n",
      "BIC: 159228.50001702498\n",
      "BIC: 159237.9967770281\n",
      "current more than best\n",
      "current 159237.9967770281\n",
      "best 159228.50001702498\n",
      "BIC: 159237.49290442423\n",
      "current more than best\n",
      "current 159237.49290442423\n",
      "best 159228.50001702498\n",
      "BIC: 159101.01138892947\n",
      "keys to remove RH_4\n",
      "removing...\n",
      "BIC: 159085.91330773025\n",
      "BIC: 159002.6749738906\n",
      "BIC: 158892.2467728219\n",
      "keys to remove T5\n",
      "removing...\n",
      "BIC: 158894.4074612373\n",
      "current more than best\n",
      "current 158894.4074612373\n",
      "best 158892.2467728219\n",
      "BIC: 158868.78973821894\n",
      "BIC: 158878.27311772289\n",
      "current more than best\n",
      "current 158878.27311772289\n",
      "best 158868.78973821894\n",
      "BIC: 158874.90921610143\n",
      "current more than best\n",
      "current 158874.90921610143\n",
      "best 158868.78973821894\n",
      "BIC: 158856.0173767119\n",
      "BIC: 158864.09873869704\n",
      "current more than best\n",
      "current 158864.09873869704\n",
      "best 158856.0173767119\n",
      "BIC: 158865.31097082017\n",
      "current more than best\n",
      "current 158865.31097082017\n",
      "best 158856.0173767119\n",
      "                            OLS Regression Results                            \n",
      "==============================================================================\n",
      "Dep. Variable:             Appliances   R-squared:                       0.164\n",
      "Model:                            OLS   Adj. R-squared:                  0.164\n",
      "Method:                 Least Squares   F-statistic:                     201.3\n",
      "Date:                Sat, 15 Sep 2018   Prob (F-statistic):               0.00\n",
      "Time:                        21:21:45   Log-Likelihood:                -79362.\n",
      "No. Observations:               13322   AIC:                         1.588e+05\n",
      "Df Residuals:                   13308   BIC:                         1.589e+05\n",
      "Df Model:                          13                                         \n",
      "Covariance Type:            nonrobust                                         \n",
      "==============================================================================\n",
      "                 coef    std err          t      P>|t|      [0.025      0.975]\n",
      "------------------------------------------------------------------------------\n",
      "Intercept    133.8490     18.859      7.097      0.000      96.883     170.815\n",
      "lights         1.9937      0.112     17.731      0.000       1.773       2.214\n",
      "RH_1          17.2244      0.648     26.572      0.000      15.954      18.495\n",
      "T2           -15.1466      1.278    -11.855      0.000     -17.651     -12.642\n",
      "RH_2         -13.0500      0.720    -18.132      0.000     -14.461     -11.639\n",
      "T3            25.4803      1.118     22.797      0.000      23.289      27.671\n",
      "T4            -3.7147      1.079     -3.442      0.001      -5.830      -1.599\n",
      "T6             5.1399      0.664      7.735      0.000       3.837       6.442\n",
      "RH_7          -1.0485      0.433     -2.419      0.016      -1.898      -0.199\n",
      "T8             8.2330      0.970      8.483      0.000       6.331      10.135\n",
      "RH_8          -4.1948      0.368    -11.403      0.000      -4.916      -3.474\n",
      "T9           -19.0216      1.485    -12.813      0.000     -21.932     -16.112\n",
      "T_out         -4.4782      0.748     -5.985      0.000      -5.945      -3.012\n",
      "Windspeed      1.8110      0.384      4.719      0.000       1.059       2.563\n",
      "==============================================================================\n",
      "Omnibus:                     9244.714   Durbin-Watson:                   0.841\n",
      "Prob(Omnibus):                  0.000   Jarque-Bera (JB):           131684.848\n",
      "Skew:                           3.249   Prob(JB):                         0.00\n",
      "Kurtosis:                      16.964   Cond. No.                     2.18e+03\n",
      "==============================================================================\n",
      "\n",
      "Warnings:\n",
      "[1] Standard Errors assume that the covariance matrix of the errors is correctly specified.\n",
      "[2] The condition number is large, 2.18e+03. This might indicate that there are\n",
      "strong multicollinearity or other numerical problems.\n",
      "\n",
      "Params:\n",
      " Intercept    133.848974\n",
      "lights         1.993671\n",
      "RH_1          17.224383\n",
      "T2           -15.146615\n",
      "RH_2         -13.049999\n",
      "T3            25.480346\n",
      "T4            -3.714680\n",
      "T6             5.139947\n",
      "RH_7          -1.048487\n",
      "T8             8.233027\n",
      "RH_8          -4.194822\n",
      "T9           -19.021599\n",
      "T_out         -4.478233\n",
      "Windspeed      1.810992\n",
      "dtype: float64\n",
      "\n",
      "Pvalues:\n",
      " Intercept     1.336251e-12\n",
      "lights        1.510724e-69\n",
      "RH_1         1.239902e-151\n",
      "T2            2.941209e-32\n",
      "RH_2          1.330460e-72\n",
      "T3           7.078228e-113\n",
      "T4            5.793699e-04\n",
      "T6            1.104574e-14\n",
      "RH_7          1.556162e-02\n",
      "T8            2.415431e-17\n",
      "RH_8          5.560641e-30\n",
      "T9            2.312244e-37\n",
      "T_out         2.214301e-09\n",
      "Windspeed     2.399460e-06\n",
      "dtype: float64\n",
      "{'RH_1': 150.90661267887845, 'T3': 112.1500754324837, 'RH_2': 71.87599833435148, 'lights': 68.82081485154094, 'T9': 36.63596638734122}\n",
      "RMSE: 98.31251653774572\n",
      "['lights', 'RH_1', 'T2', 'RH_2', 'T3', 'T4', 'T6', 'RH_7', 'T8', 'RH_8', 'T9', 'T_out', 'Windspeed']\n"
     ]
    }
   ],
   "source": [
    "forward_model, selected_features, top_5_features = forward_selected(df, 'Appliances', 5)\n",
    "print(selected_features)"
   ]
  },
  {
   "cell_type": "code",
   "execution_count": 58,
   "metadata": {},
   "outputs": [
    {
     "name": "stdout",
     "output_type": "stream",
     "text": [
      "['RH_1', 'T3', 'RH_2', 'lights', 'T9']\n"
     ]
    }
   ],
   "source": [
    "print(top_5_features)"
   ]
  },
  {
   "cell_type": "code",
   "execution_count": 64,
   "metadata": {},
   "outputs": [
    {
     "name": "stdout",
     "output_type": "stream",
     "text": [
      "                            OLS Regression Results                            \n",
      "==============================================================================\n",
      "Dep. Variable:             Appliances   R-squared:                       0.103\n",
      "Model:                            OLS   Adj. R-squared:                  0.102\n",
      "Method:                 Least Squares   F-statistic:                     270.7\n",
      "Date:                Sat, 15 Sep 2018   Prob (F-statistic):          5.50e-275\n",
      "Time:                        21:30:28   Log-Likelihood:                -70964.\n",
      "No. Observations:               11842   AIC:                         1.419e+05\n",
      "Df Residuals:                   11836   BIC:                         1.420e+05\n",
      "Df Model:                           5                                         \n",
      "Covariance Type:            nonrobust                                         \n",
      "==============================================================================\n",
      "                 coef    std err          t      P>|t|      [0.025      0.975]\n",
      "------------------------------------------------------------------------------\n",
      "Intercept     31.9056     12.561      2.540      0.011       7.284      56.527\n",
      "RH_1           7.0303      0.396     17.743      0.000       6.254       7.807\n",
      "T3            15.6589      1.097     14.277      0.000      13.509      17.809\n",
      "RH_2          -8.0442      0.367    -21.902      0.000      -8.764      -7.324\n",
      "lights         2.2452      0.115     19.464      0.000       2.019       2.471\n",
      "T9           -12.7918      1.066    -12.001      0.000     -14.881     -10.702\n",
      "==============================================================================\n",
      "Omnibus:                     8053.181   Durbin-Watson:                   1.996\n",
      "Prob(Omnibus):                  0.000   Jarque-Bera (JB):           102166.388\n",
      "Skew:                           3.206   Prob(JB):                         0.00\n",
      "Kurtosis:                      15.882   Cond. No.                         912.\n",
      "==============================================================================\n",
      "\n",
      "Warnings:\n",
      "[1] Standard Errors assume that the covariance matrix of the errors is correctly specified.\n",
      "Modified BIC: 141985.14188296808\n",
      "Modified vs Optimal BIC: 141985.14188296808 vs 158856.0173767119\n",
      "Modified R2 adj: 0.10225030135685698\n"
     ]
    }
   ],
   "source": [
    "from sklearn.model_selection import train_test_split\n",
    "# split data\n",
    "train, test = train_test_split(df, test_size=0.2, random_state=5)\n",
    "# fit a model\n",
    "formula = \"Appliances ~ {}\".format(' + '.join(top_5_features))\n",
    "model = smf.ols(formula, data=train)\n",
    "results = model.fit()\n",
    "forward_model_res = forward_model.fit()\n",
    "print(results.summary())\n",
    "print('Modified BIC:',results.bic)\n",
    "print('Modified vs Optimal BIC: {} vs {}'.format(results.bic, forward_model_res.bic))\n",
    "print('Modified R2 adj:', results.rsquared_adj)"
   ]
  },
  {
   "cell_type": "code",
   "execution_count": 67,
   "metadata": {},
   "outputs": [
    {
     "name": "stdout",
     "output_type": "stream",
     "text": [
      "Modified RMSE with 5 features: 99.63061998984901\n",
      "RMSE with all forward selected features: 98.31251653774572\n"
     ]
    }
   ],
   "source": [
    "# calculated modified model RMSE\n",
    "\n",
    "test_exog = test[top_5_features]\n",
    "#add a column of 1\n",
    "test_exog = sm.add_constant(test_exog)\n",
    "#print(test_exog)\n",
    "y_pred = model.predict(results.params, test_exog)\n",
    "print('Modified RMSE with 5 features:', np.sqrt(\n",
    "            mean_squared_error(test['Appliances'], y_pred)))\n",
    "print('RMSE with all forward selected features: 98.31251653774572')"
   ]
  },
  {
   "cell_type": "code",
   "execution_count": 73,
   "metadata": {},
   "outputs": [],
   "source": [
    "from sklearn.model_selection import cross_val_predict\n",
    "def cross_validate_models(data, response, input_dict):\n",
    "    y = data[response]\n",
    "    # dependent variables aka response\n",
    "    for k, v in input_dict.items():\n",
    "        feature_cols = v\n",
    "        name = k\n",
    "        # predictors\n",
    "        x = data[feature_cols]\n",
    "        # instantiate model\n",
    "        lm = LinearRegression()\n",
    "        print(\"\\nCross validation using scikit:\\n\")\n",
    "        # check cross validation predictions, 10 splits\n",
    "        cv_predictions = cross_val_predict(lm, x, y, cv=10)\n",
    "        # check errors\n",
    "        print('Predictors: {}'.format(feature_cols))\n",
    "        print('MAE:', mean_absolute_error(y, cv_predictions))\n",
    "        print('RMSE:', np.sqrt(mean_squared_error(y, cv_predictions)))\n",
    "        print('R-Squared:', r2_score(y,cv_predictions))\n",
    "        "
   ]
  },
  {
   "cell_type": "code",
   "execution_count": 74,
   "metadata": {},
   "outputs": [
    {
     "name": "stdout",
     "output_type": "stream",
     "text": [
      "\n",
      "Cross validation using scikit:\n",
      "\n",
      "Predictors: ['lights', 'T2', 'T6', 'T_out', 'RH_out']\n",
      "MAE: 57.651615033575524\n",
      "RMSE: 99.69005217635754\n",
      "R-Squared: 0.06003854418266574\n",
      "\n",
      "Cross validation using scikit:\n",
      "\n",
      "Predictors: ['RH_1', 'T2', 'RH_2', 'T3', 'RH_3', 'T4', 'T6', 'T8', 'RH_8', 'T9', 'T_out']\n",
      "MAE: 55.75827714165475\n",
      "RMSE: 96.4765075729662\n",
      "R-Squared: 0.11966180260116721\n",
      "\n",
      "Cross validation using scikit:\n",
      "\n",
      "Predictors: ['RH_1', 'T2', 'RH_2', 'T3', 'T9']\n",
      "MAE: 59.69057146453515\n",
      "RMSE: 99.18239787497967\n",
      "R-Squared: 0.06958735069056754\n",
      "\n",
      "Cross validation using scikit:\n",
      "\n",
      "Predictors: ['RH_1', 'T3', 'RH_2', 'lights', 'T9']\n",
      "MAE: 58.71803231551155\n",
      "RMSE: 99.2212254077921\n",
      "R-Squared: 0.06885873957401367\n"
     ]
    }
   ],
   "source": [
    "input_dict = { 'kbest_f_regress': kbest_f_regress, 'RFECV' : rfecv_feats, \n",
    "              'RFE' : rfe_feats, 'Forward selection' : top_5_features}\n",
    "cross_validate_models(df, 'Appliances', input_dict)"
   ]
  },
  {
   "cell_type": "code",
   "execution_count": 82,
   "metadata": {},
   "outputs": [],
   "source": [
    "def backward_elmination_p_value(data, response, n_feats, input_list):\n",
    "    print('\\nUsing statsmodels:\\n')\n",
    "    feats = input_list.copy()\n",
    "    while len(feats) > n_feats:\n",
    "        formula = \"{0} ~ {1}\".format(response, '+'.join(feats))\n",
    "        model = smf.ols(formula, data=data)\n",
    "        results = model.fit()\n",
    "        pvalues = results.pvalues\n",
    "        #print('pvalues {}\\n'.format(pvalues))\n",
    "        p_dict = pvalues.to_dict()\n",
    "        p_dict.pop('Intercept', None)\n",
    "        largest_p = heapq.nlargest(1, p_dict.items(), key=itemgetter(1))\n",
    "        #print(largest_p[0][0])\n",
    "        feats.remove(largest_p[0][0])\n",
    "\n",
    "    print(feats)\n",
    "    return feats"
   ]
  },
  {
   "cell_type": "code",
   "execution_count": 85,
   "metadata": {},
   "outputs": [
    {
     "name": "stdout",
     "output_type": "stream",
     "text": [
      "\n",
      "Using statsmodels:\n",
      "\n",
      "['lights', 'T2', 'T6', 'T_out', 'RH_out']\n",
      "kbest_f_regress top 5 selected by backwards elimination:['lights', 'T2', 'T6', 'T_out', 'RH_out']\n",
      "\n",
      "Using statsmodels:\n",
      "\n",
      "['RH_1', 'RH_2', 'T3', 'RH_8', 'T9']\n",
      "RFECV top 5 selected by backwards elimination:['RH_1', 'RH_2', 'T3', 'RH_8', 'T9']\n",
      "\n",
      "Using statsmodels:\n",
      "\n",
      "['RH_1', 'T2', 'RH_2', 'T3', 'T9']\n",
      "RFE top 5 selected by backwards elimination:['RH_1', 'T2', 'RH_2', 'T3', 'T9']\n",
      "\n",
      "Using statsmodels:\n",
      "\n",
      "['RH_1', 'T3', 'RH_2', 'lights', 'T9']\n",
      "Forward selection top 5 selected by backwards elimination:['RH_1', 'T3', 'RH_2', 'lights', 'T9']\n"
     ]
    }
   ],
   "source": [
    "new_feats = {}\n",
    "for k, v in input_dict.items():\n",
    "    selected = backward_elmination_p_value(df, 'Appliances', 5, v)\n",
    "    print('{} top 5 selected by backwards elimination:{}'.format(k, selected))\n",
    "    new_feats[k] = selected"
   ]
  },
  {
   "cell_type": "code",
   "execution_count": 87,
   "metadata": {},
   "outputs": [
    {
     "name": "stdout",
     "output_type": "stream",
     "text": [
      "[['lights', 'T2', 'T6', 'T_out', 'RH_out'], ['RH_1', 'RH_2', 'T3', 'RH_8', 'T9'], ['RH_1', 'T2', 'RH_2', 'T3', 'T9'], ['RH_1', 'T3', 'RH_2', 'lights', 'T9']]\n"
     ]
    }
   ],
   "source": [
    "lists_of_feats = [l for l in new_feats.values()]\n",
    "print(lists_of_feats)"
   ]
  },
  {
   "cell_type": "code",
   "execution_count": 88,
   "metadata": {},
   "outputs": [
    {
     "name": "stdout",
     "output_type": "stream",
     "text": [
      "['lights', 'T2', 'T6', 'T_out', 'RH_out', 'RH_1', 'RH_2', 'T3', 'RH_8', 'T9', 'RH_1', 'T2', 'RH_2', 'T3', 'T9', 'RH_1', 'T3', 'RH_2', 'lights', 'T9']\n"
     ]
    }
   ],
   "source": [
    "import itertools\n",
    "flat_list = list(itertools.chain.from_iterable(lists_of_feats))\n",
    "print(flat_list)"
   ]
  },
  {
   "cell_type": "code",
   "execution_count": 91,
   "metadata": {},
   "outputs": [
    {
     "name": "stdout",
     "output_type": "stream",
     "text": [
      "['RH_8', 'RH_out', 'T6', 'T3', 'RH_1', 'T_out', 'lights', 'T9', 'T2', 'RH_2']\n"
     ]
    }
   ],
   "source": [
    "flat_list = list(set(flat_list))\n",
    "print(flat_list)"
   ]
  },
  {
   "cell_type": "code",
   "execution_count": 92,
   "metadata": {},
   "outputs": [
    {
     "name": "stdout",
     "output_type": "stream",
     "text": [
      "\n",
      "Using statsmodels:\n",
      "\n",
      "['RH_8', 'T3', 'RH_1', 'T9', 'RH_2']\n"
     ]
    }
   ],
   "source": [
    "final_5 = backward_elmination_p_value(df, 'Appliances', 5, flat_list)"
   ]
  },
  {
   "cell_type": "code",
   "execution_count": null,
   "metadata": {},
   "outputs": [],
   "source": [
    "forward_model, selected_features, top_5_features = forward_selected(df, 'Appliances', 5)\n",
    "print(selected_features)"
   ]
  }
 ],
 "metadata": {
  "kernelspec": {
   "display_name": "Python 3",
   "language": "python",
   "name": "python3"
  },
  "language_info": {
   "codemirror_mode": {
    "name": "ipython",
    "version": 3
   },
   "file_extension": ".py",
   "mimetype": "text/x-python",
   "name": "python",
   "nbconvert_exporter": "python",
   "pygments_lexer": "ipython3",
   "version": "3.7.0"
  }
 },
 "nbformat": 4,
 "nbformat_minor": 2
}
